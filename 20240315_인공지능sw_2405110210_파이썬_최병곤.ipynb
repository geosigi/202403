{
 "cells": [
  {
   "cell_type": "code",
   "execution_count": 22,
   "metadata": {},
   "outputs": [
    {
     "data": {
      "text/plain": [
       "'Helloworld'"
      ]
     },
     "execution_count": 22,
     "metadata": {},
     "output_type": "execute_result"
    }
   ],
   "source": [
    "# 3-1) 파이썬에서 띄어쓰기\n",
    "\"Hello\" + \"world\""
   ]
  },
  {
   "cell_type": "code",
   "execution_count": 23,
   "metadata": {},
   "outputs": [
    {
     "data": {
      "text/plain": [
       "'Hello  world'"
      ]
     },
     "execution_count": 23,
     "metadata": {},
     "output_type": "execute_result"
    }
   ],
   "source": [
    "\"Hello\"+\"  \"+\"world\""
   ]
  },
  {
   "cell_type": "code",
   "execution_count": 76,
   "metadata": {},
   "outputs": [
    {
     "name": "stdout",
     "output_type": "stream",
     "text": [
      "오늘은 파이썬 챌린지 3일차 입니다\n"
     ]
    }
   ],
   "source": [
    "# 3-2) 디버깅 연습\n",
    "print(\"오늘은 파이썬 챌린지 3일차 입니다\")"
   ]
  },
  {
   "cell_type": "code",
   "execution_count": 85,
   "metadata": {},
   "outputs": [
    {
     "name": "stdout",
     "output_type": "stream",
     "text": [
      "디버깅 \"+\" 연습중입니다\n",
      "내일은(\"금요일\" + \"입니다)\n",
      "그래서 챌린지가 없습니다\n"
     ]
    }
   ],
   "source": [
    "print('디버깅 \"+\" 연습중입니다')\n",
    "print('내일은(\"금요일\" + \"입니다)')\n",
    "print((\"그래서 챌린지가 없습니다\"))"
   ]
  },
  {
   "cell_type": "code",
   "execution_count": 86,
   "metadata": {},
   "outputs": [
    {
     "data": {
      "text/plain": [
       "'최병곤'"
      ]
     },
     "execution_count": 86,
     "metadata": {},
     "output_type": "execute_result"
    }
   ],
   "source": [
    "# 3-3) 입력함수1\n",
    "input(\"당신의 이름은 무엇입니까?\")"
   ]
  },
  {
   "cell_type": "code",
   "execution_count": 3,
   "metadata": {},
   "outputs": [
    {
     "name": "stdout",
     "output_type": "stream",
     "text": [
      "나는aaaaff입니다\n"
     ]
    }
   ],
   "source": [
    "print(\"나는\" + input(\"당신의 이름은 무엇입니까?\") + \"입니다\")"
   ]
  },
  {
   "cell_type": "code",
   "execution_count": 24,
   "metadata": {},
   "outputs": [
    {
     "name": "stdout",
     "output_type": "stream",
     "text": [
      "나는ㅇㅇㅇㅇ입니다\n"
     ]
    }
   ],
   "source": [
    "print(\"나는\"+input(\"당신의 이름은 무엇입니까\")+\"입니다\")"
   ]
  },
  {
   "cell_type": "code",
   "execution_count": 28,
   "metadata": {},
   "outputs": [
    {
     "name": "stdout",
     "output_type": "stream",
     "text": [
      "나는 ㅁㅁㅁㅁ 입니다.\n"
     ]
    }
   ],
   "source": [
    "# 3-3 퀴즈\n",
    "print(\"나는\"+\" \"+input(\"당신의 이름은 무엇입니까?\")+\" \"+\"입니다.\")"
   ]
  },
  {
   "cell_type": "code",
   "execution_count": 7,
   "metadata": {},
   "outputs": [
    {
     "name": "stdout",
     "output_type": "stream",
     "text": [
      "나의김아무개입니다.\n"
     ]
    }
   ],
   "source": [
    "print(\"나의\"+input(\"당신의 이름은 무었입니까?\")+\"입니다.\")"
   ]
  },
  {
   "cell_type": "code",
   "execution_count": 9,
   "metadata": {},
   "outputs": [
    {
     "name": "stdout",
     "output_type": "stream",
     "text": [
      "4\n"
     ]
    }
   ],
   "source": [
    "# 3-4) 입력함수2\n",
    "print(len(input(\"당신의 이름은 무엇입니까?\")))"
   ]
  },
  {
   "cell_type": "code",
   "execution_count": 10,
   "metadata": {},
   "outputs": [],
   "source": [
    "# 3-5) 파이썬 변수1\n",
    "name=input(\"당신의 이름은 무엇입니까?\")"
   ]
  },
  {
   "cell_type": "code",
   "execution_count": 14,
   "metadata": {},
   "outputs": [],
   "source": [
    "length=len(name)"
   ]
  },
  {
   "cell_type": "code",
   "execution_count": 15,
   "metadata": {},
   "outputs": [
    {
     "name": "stdout",
     "output_type": "stream",
     "text": [
      "3\n"
     ]
    }
   ],
   "source": [
    "print(length)"
   ]
  },
  {
   "cell_type": "code",
   "execution_count": 19,
   "metadata": {},
   "outputs": [],
   "source": [
    "# 3-6) 파이썬 변수1\n",
    "a = input(\"a:\")\n",
    "b = input(\"b:\")"
   ]
  },
  {
   "cell_type": "code",
   "execution_count": 20,
   "metadata": {},
   "outputs": [],
   "source": [
    "c=a\n",
    "a=b\n",
    "b=c"
   ]
  },
  {
   "cell_type": "code",
   "execution_count": 21,
   "metadata": {},
   "outputs": [
    {
     "name": "stdout",
     "output_type": "stream",
     "text": [
      "a =2\n",
      "b = 1\n"
     ]
    }
   ],
   "source": [
    "print(\"a = \"+a)\n",
    "print(\"b = \"+b)"
   ]
  },
  {
   "cell_type": "code",
   "execution_count": 29,
   "metadata": {},
   "outputs": [],
   "source": [
    "# 3-7) 이름짓기\n",
    "# 3-7 퀴즈\n",
    "# 답 ㄴ. a=12"
   ]
  },
  {
   "cell_type": "code",
   "execution_count": 88,
   "metadata": {},
   "outputs": [],
   "source": [
    "# 종합챌린지 퀴즈\n",
    "movie_name = input(\"좋아하는 영화는 무엇입니까\")\n",
    "actor = input(\"영화의 주인공은 누구입니까\")"
   ]
  },
  {
   "cell_type": "code",
   "execution_count": 92,
   "metadata": {},
   "outputs": [
    {
     "name": "stdout",
     "output_type": "stream",
     "text": [
      "내가 좋아하는 영화는 양들의 침묵 이고, 주인공은 조디 포스터 입니다\n"
     ]
    }
   ],
   "source": [
    "\n",
    "print(\"내가 좋아하는 영화는 %s 이고, 주인공은 %s 입니다\" % (movie_name, actor))"
   ]
  },
  {
   "cell_type": "code",
   "execution_count": 91,
   "metadata": {},
   "outputs": [
    {
     "name": "stdout",
     "output_type": "stream",
     "text": [
      "내가 좋아하는 영화는 양들의 침묵이고, 주인공은조디 포스터입니다\n"
     ]
    }
   ],
   "source": [
    "print(\"내가 좋아하는 영화는 \" + movie_name + \"이고, \"+ \"주인공은\" + actor + \"입니다\")"
   ]
  },
  {
   "cell_type": "code",
   "execution_count": null,
   "metadata": {},
   "outputs": [],
   "source": []
  }
 ],
 "metadata": {
  "kernelspec": {
   "display_name": "base",
   "language": "python",
   "name": "python3"
  },
  "language_info": {
   "codemirror_mode": {
    "name": "ipython",
    "version": 3
   },
   "file_extension": ".py",
   "mimetype": "text/x-python",
   "name": "python",
   "nbconvert_exporter": "python",
   "pygments_lexer": "ipython3",
   "version": "3.11.7"
  }
 },
 "nbformat": 4,
 "nbformat_minor": 2
}
