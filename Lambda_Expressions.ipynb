{
  "nbformat": 4,
  "nbformat_minor": 0,
  "metadata": {
    "colab": {
      "provenance": [],
      "authorship_tag": "ABX9TyOM2X9Tbp0PcQwPMhNGCvFM",
      "include_colab_link": true
    },
    "kernelspec": {
      "name": "python3",
      "display_name": "Python 3"
    },
    "language_info": {
      "name": "python"
    }
  },
  "cells": [
    {
      "cell_type": "markdown",
      "metadata": {
        "id": "view-in-github",
        "colab_type": "text"
      },
      "source": [
        "<a href=\"https://colab.research.google.com/github/geosigi/202403/blob/main/Lambda_Expressions.ipynb\" target=\"_parent\"><img src=\"https://colab.research.google.com/assets/colab-badge.svg\" alt=\"Open In Colab\"/></a>"
      ]
    },
    {
      "cell_type": "markdown",
      "source": [
        "Lambda Functions\n",
        "\n",
        "- Tis function can have any number of arguments but only one expression, which is evaluated and returned.\n",
        "- You need to keep in mind in your knowledge that lambda functions are syntactically restricted to a single expression.\n",
        "- It is more efficient than function when the function task is small.\n",
        "- Do not use lambda functions when task is complex.\n",
        "- It works best when you have to call a function millions of times but the execution task is simple."
      ],
      "metadata": {
        "id": "3K5tne5NkMni"
      }
    },
    {
      "cell_type": "markdown",
      "source": [
        "A Lambda function that adds 20 to the number that is passed as an argument."
      ],
      "metadata": {
        "id": "N7ZVpzTwmCy3"
      }
    },
    {
      "cell_type": "code",
      "source": [
        "def add_20(a):\n",
        "  return a+20"
      ],
      "metadata": {
        "id": "sblI_MSuTPBi"
      },
      "execution_count": 1,
      "outputs": []
    },
    {
      "cell_type": "code",
      "source": [
        "add_20(5)"
      ],
      "metadata": {
        "colab": {
          "base_uri": "https://localhost:8080/"
        },
        "id": "GfEnITOSTW0m",
        "outputId": "345e2ad2-79d5-4947-bd32-1aac393fc0d1"
      },
      "execution_count": 2,
      "outputs": [
        {
          "output_type": "execute_result",
          "data": {
            "text/plain": [
              "25"
            ]
          },
          "metadata": {},
          "execution_count": 2
        }
      ]
    },
    {
      "cell_type": "code",
      "source": [],
      "metadata": {
        "id": "tEgX7eavTaH2"
      },
      "execution_count": null,
      "outputs": []
    }
  ]
}